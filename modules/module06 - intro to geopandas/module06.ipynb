{
 "cells": [
  {
   "cell_type": "markdown",
   "metadata": {},
   "source": [
    "# Urban Informatics\n",
    "# Module 06: geopandas\n",
    "\n",
    "- introduce the Python geospatial data science stack\n",
    "- working with spatial data\n",
    "- geometric operations\n",
    "- projection\n",
    "- mapping\n",
    "- spatial joins\n",
    "- spatial indexing"
   ]
  },
  {
   "cell_type": "code",
   "execution_count": null,
   "metadata": {},
   "outputs": [],
   "source": [
    "import pandas as pd\n",
    "import geopandas as gpd\n",
    "import matplotlib.pyplot as plt\n",
    "from geopy.distance import great_circle\n",
    "from shapely.geometry import Point\n",
    "\n",
    "%matplotlib notebook"
   ]
  },
  {
   "cell_type": "markdown",
   "metadata": {},
   "source": [
    "## 1. Quick overview of mapping and projection concepts\n",
    "\n",
    "### Some terminology:\n",
    "\n",
    "- **geoid**: (that's *gee-oid*) the surface of the earth's gravity field, which approximates mean sea level\n",
    "- **spheroid** or **ellipsoid** (interchangeable terms): a model that smoothly approximates the geoid\n",
    "- **datum**: based on spheroid but incorporates local variations in the shape of the Earth. Used to describe a point on the Earth's surface, such as in latitude and longitude.\n",
    "  - NAD83 (North American Datum 1983) uses the GRS80 spheroid\n",
    "  - WGS84 (World Geodetic Survey 1984 datum) uses the WGS84 spheroid\n",
    "  - The latitude and longitude coordinates of some point differ slightly based on the datum. GPS uses WGS84.\n",
    "- **coordinate reference system** (CRS) or spatial reference system (SRS): a series of parameters that [define](http://spatialreference.org/) the coordinate system and spatial extent (aka, domain) of some dataset.\n",
    "- **geographic coordinate system** (GCS): specifies a datum, spheroid, units of measure (such as meters), and a prime meridian\n",
    "- **projected coordinate system** or map projection: projects a map of the Earth's 3-D spherical surface onto a flat surface that can be measured in units like meters. Here's a [list of projections](https://en.wikipedia.org/wiki/List_of_map_projections).\n",
    "- **eastings** and **northings**: the x and y coordinates of a projected map, usually measured in meters\n",
    "- **false origin**: the 0,0 origin point from which eastings and northings are measured on the map, usually the lower left corner rather than the center\n",
    "- **PROJ.4**: a library to convert/project spatial data with consistent CRS [parameter names](https://github.com/OSGeo/proj.4/wiki/GenParms)\n",
    "\n",
    "### Common CRS parameters (and their PROJ.4 names):\n",
    "\n",
    "- datum (datum)\n",
    "- ellipse (ellps)\n",
    "- projection (proj)\n",
    "  - the name of the projected coordinate system, such as Albers Equal Area (aea) or Lambert Conformal Conic (lcc)\n",
    "- standard parallels (lat_1, lat_2)\n",
    "  - where the projection surface touches the globe - at the standard parallels, the projection shows no distortion\n",
    "- central meridian and latitude of origin (lon_0, lat_0)\n",
    "  - the origin of the projection's x and y coordinates (eastings and northings) - usually the center of the map projection\n",
    "- false easting and false northing (x_0, y_0)\n",
    "  - offsets to add to all your eastings and northings - usually used to make all the coordinates on the map positive numbers by starting 0,0 at the lower left corner rather than the center of the map (see false origin, above)\n",
    "\n",
    "### Common projection types:\n",
    "\n",
    "- *equal area* projections: maintain area at the expense of shape, distance, and direction - such as the [Albers Equal Area](https://en.wikipedia.org/wiki/Albers_projection) projection\n",
    "- *conformal* projections: maintain shapes at the expense of area, distance, and direction - such as the [Lambert Conformal Conic](https://en.wikipedia.org/wiki/Lambert_conformal_conic_projection) projection\n",
    "- *equidistant* projections: [preserve distance](https://en.wikipedia.org/wiki/Map_projection#Equidistant) from one point or along all meridians and parallels\n",
    "- *azimuthal* projections: maintain direction from one point to all other points - such as an [orthographic](https://en.wikipedia.org/wiki/Orthographic_projection_in_cartography) projection\n",
    "- others compromise to minimize overall distortion or aim for aesthetic value - such as the [Robinson](https://en.wikipedia.org/wiki/Robinson_projection) projection"
   ]
  },
  {
   "cell_type": "markdown",
   "metadata": {},
   "source": [
    "## 2. Working with spatial data\n",
    "\n",
    "We'll use [geopandas](http://geopandas.org/user.html), which spatializes pandas dataframes. If you're loading a CSV file of lat-lng data, first load it the usual way with pandas, then create a new geopandas GeoDataFrame from your DataFrame."
   ]
  },
  {
   "cell_type": "code",
   "execution_count": null,
   "metadata": {
    "collapsed": false,
    "jupyter": {
     "outputs_hidden": false
    }
   },
   "outputs": [],
   "source": [
    "# load usa point data as a regular pandas dataframe\n",
    "df = pd.read_csv('data/usa-latlong.csv')\n",
    "df.shape"
   ]
  },
  {
   "cell_type": "code",
   "execution_count": null,
   "metadata": {},
   "outputs": [],
   "source": [
    "# convert it to a geopandas geodataframe\n",
    "usa_points = gpd.GeoDataFrame(df)\n",
    "usa_points.head()"
   ]
  },
  {
   "cell_type": "code",
   "execution_count": null,
   "metadata": {
    "collapsed": false,
    "jupyter": {
     "outputs_hidden": false
    }
   },
   "outputs": [],
   "source": [
    "# measure distance between the first two points in the dataset using geopy's great_circle function\n",
    "# notice the points are represented as (lat, long) to do the distance calculation\n",
    "# (lat, long) is equivalent to (y, x) rather than (x, y)\n",
    "point0 = usa_points.loc[0, 'latitude'], usa_points.loc[0, 'longitude']\n",
    "point1 = usa_points.loc[1, 'latitude'], usa_points.loc[1, 'longitude']\n",
    "great_circle(point0, point1).miles"
   ]
  },
  {
   "cell_type": "code",
   "execution_count": null,
   "metadata": {
    "collapsed": false,
    "jupyter": {
     "outputs_hidden": false
    }
   },
   "outputs": [],
   "source": [
    "# how far is each row from the memorial coliseum?\n",
    "def get_distance(row):\n",
    "    memorial_coliseum = 34.014033, -118.287868\n",
    "    distance = great_circle(memorial_coliseum, (row['latitude'], row['longitude'])).miles\n",
    "    return round(distance, 2)\n",
    "\n",
    "usa_points['miles_from_coliseum'] = usa_points.apply(get_distance, axis=1)\n",
    "usa_points.head()"
   ]
  },
  {
   "cell_type": "code",
   "execution_count": null,
   "metadata": {},
   "outputs": [],
   "source": [
    "# now it's your turn\n",
    "# 1. how far is the coliseum from your home (look up its coordinates on google maps)?\n",
    "# 2. how far is LA central library from griffith observatory?\n"
   ]
  },
  {
   "cell_type": "code",
   "execution_count": null,
   "metadata": {
    "collapsed": false,
    "jupyter": {
     "outputs_hidden": false
    }
   },
   "outputs": [],
   "source": [
    "# load the states shapefile as a geodataframe\n",
    "states = gpd.GeoDataFrame.from_file('data/states_21basic/states.shp')\n",
    "len(states)"
   ]
  },
  {
   "cell_type": "code",
   "execution_count": null,
   "metadata": {},
   "outputs": [],
   "source": [
    "states.head()"
   ]
  },
  {
   "cell_type": "code",
   "execution_count": null,
   "metadata": {
    "collapsed": false,
    "jupyter": {
     "outputs_hidden": false
    }
   },
   "outputs": [],
   "source": [
    "# what's in our shapefile?\n",
    "states['STATE_NAME'].sort_values().unique()"
   ]
  },
  {
   "cell_type": "code",
   "execution_count": null,
   "metadata": {},
   "outputs": [],
   "source": [
    "# or read in a geojson file\n",
    "states2 = gpd.read_file('data/states.geojson')\n",
    "states2.head()"
   ]
  },
  {
   "cell_type": "code",
   "execution_count": null,
   "metadata": {},
   "outputs": [],
   "source": [
    "# you can edit your data then save the gdf to disk\n",
    "states2['STATE_NAME'] = states2['STATE_NAME'].str.upper()\n",
    "states2.to_file('data/states2')"
   ]
  },
  {
   "cell_type": "code",
   "execution_count": null,
   "metadata": {},
   "outputs": [],
   "source": [
    "# now it's your turn\n",
    "# which SUB_REGION contains the most states? and the fewest?\n"
   ]
  },
  {
   "cell_type": "markdown",
   "metadata": {},
   "source": [
    "## 2. Geometric operations"
   ]
  },
  {
   "cell_type": "code",
   "execution_count": null,
   "metadata": {},
   "outputs": [],
   "source": [
    "# create a geometry column in our point dataset to contain shapely geometry for geopandas to use\n",
    "# notice the points are represented as long, lat so that they are equivalent to x, y\n",
    "usa_points['geometry'] = usa_points.apply(lambda row: Point(row['longitude'], row['latitude']), axis=1)\n",
    "usa_points.head()"
   ]
  },
  {
   "cell_type": "markdown",
   "metadata": {},
   "source": [
    "### 2.1. intersects"
   ]
  },
  {
   "cell_type": "code",
   "execution_count": null,
   "metadata": {
    "collapsed": false,
    "jupyter": {
     "outputs_hidden": false
    }
   },
   "outputs": [],
   "source": [
    "# get those states that intersect with the point data\n",
    "# use geopandas unary_union attribute to get a single geometry object representing all the points\n",
    "mask = states['geometry'].intersects(usa_points['geometry'].unary_union)\n",
    "len(states[mask])"
   ]
  },
  {
   "cell_type": "code",
   "execution_count": null,
   "metadata": {
    "collapsed": false,
    "jupyter": {
     "outputs_hidden": false
    }
   },
   "outputs": [],
   "source": [
    "# which states didn't have any point data?\n",
    "states[~mask]['STATE_NAME']"
   ]
  },
  {
   "cell_type": "markdown",
   "metadata": {},
   "source": [
    "### 2.2. within"
   ]
  },
  {
   "cell_type": "code",
   "execution_count": null,
   "metadata": {
    "collapsed": false,
    "jupyter": {
     "outputs_hidden": false
    }
   },
   "outputs": [],
   "source": [
    "# get the geometry of the state with name california, as a geoseries of one element\n",
    "california = states[states['STATE_NAME']=='California']['geometry']\n",
    "\n",
    "# use iloc to extract the value from a geoseries of one element, to a shapely polygon\n",
    "california_polygon = california.iloc[0]\n",
    "california_polygon"
   ]
  },
  {
   "cell_type": "code",
   "execution_count": null,
   "metadata": {},
   "outputs": [],
   "source": [
    "# find all the points in CA\n",
    "cal_points = usa_points[usa_points.within(california_polygon)]\n",
    "len(cal_points)"
   ]
  },
  {
   "cell_type": "code",
   "execution_count": null,
   "metadata": {
    "collapsed": false,
    "jupyter": {
     "outputs_hidden": false
    }
   },
   "outputs": [],
   "source": [
    "fig, ax = plt.subplots()\n",
    "ax = california.plot(ax=ax, color='#999999')\n",
    "ax = cal_points.plot(ax=ax, c='r', markersize=1)\n",
    "ax.axis('off')\n",
    "plt.show()"
   ]
  },
  {
   "cell_type": "code",
   "execution_count": null,
   "metadata": {
    "collapsed": false,
    "jupyter": {
     "outputs_hidden": false
    }
   },
   "outputs": [],
   "source": [
    "# another example: remove any point data that lies within Alaska or Hawaii\n",
    "# first grab the polygons from these states' geoseries using iloc\n",
    "alaska_polygon = states[states['STATE_NAME']=='Alaska']['geometry'].iloc[0]\n",
    "hawaii_polygon = states[states['STATE_NAME']=='Hawaii']['geometry'].iloc[0]\n",
    "\n",
    "# now use a mask to select all points *not* within either state's polygon\n",
    "alaska_hawaii_mask = usa_points.within(alaska_polygon) | usa_points.within(hawaii_polygon)\n",
    "contiguous_usa_points = usa_points[~alaska_hawaii_mask]\n",
    "len(contiguous_usa_points)"
   ]
  },
  {
   "cell_type": "code",
   "execution_count": null,
   "metadata": {},
   "outputs": [],
   "source": [
    "# now it's your turn\n",
    "# how many points are in arizona?\n",
    "# how many are in a \"pacific\" state but not california?\n"
   ]
  },
  {
   "cell_type": "markdown",
   "metadata": {},
   "source": [
    "### 2.3 dissolve to aggregate"
   ]
  },
  {
   "cell_type": "code",
   "execution_count": null,
   "metadata": {},
   "outputs": [],
   "source": [
    "mask = (states['STATE_NAME']!='Alaska') & (states['STATE_NAME']!='Hawaii')\n",
    "contiguous_states = states[mask]"
   ]
  },
  {
   "cell_type": "code",
   "execution_count": null,
   "metadata": {},
   "outputs": [],
   "source": [
    "subregions = contiguous_states.dissolve('SUB_REGION')\n",
    "ax = subregions.plot(linewidth=1, edgecolor='w')"
   ]
  },
  {
   "cell_type": "markdown",
   "metadata": {},
   "source": [
    "### 2.4 convex hulls, envelopes, and centroids"
   ]
  },
  {
   "cell_type": "code",
   "execution_count": null,
   "metadata": {},
   "outputs": [],
   "source": [
    "texas = states[states['STATE_NAME']=='Texas']\n",
    "ax = texas.convex_hull.plot(color='b')\n",
    "ax = texas.plot(ax=ax, color='pink')"
   ]
  },
  {
   "cell_type": "code",
   "execution_count": null,
   "metadata": {},
   "outputs": [],
   "source": [
    "ax = texas.envelope.plot(color='gray')\n",
    "ax = texas.convex_hull.plot(ax=ax, color='b')\n",
    "ax = texas.plot(ax=ax, color='pink')"
   ]
  },
  {
   "cell_type": "code",
   "execution_count": null,
   "metadata": {},
   "outputs": [],
   "source": [
    "ax = texas.envelope.plot(color='gray')\n",
    "ax = texas.convex_hull.plot(ax=ax, color='b')\n",
    "ax = texas.plot(ax=ax, color='pink')\n",
    "ax = texas.centroid.plot(ax=ax, color='r')"
   ]
  },
  {
   "cell_type": "code",
   "execution_count": null,
   "metadata": {},
   "outputs": [],
   "source": [
    "ax = contiguous_states.plot(color='gray', linewidth=0.5, edgecolor='w')\n",
    "ax = contiguous_states.centroid.plot(ax=ax, color='r', markersize=5)"
   ]
  },
  {
   "cell_type": "code",
   "execution_count": null,
   "metadata": {},
   "outputs": [],
   "source": [
    "# now it's your turn\n",
    "# calculate the centroids of california's state boundary, convex hull, and envelope\n",
    "# how far is california's centroid from oregon's centroid?\n"
   ]
  },
  {
   "cell_type": "markdown",
   "metadata": {},
   "source": [
    "### 2.5. buffer, difference, and intersection"
   ]
  },
  {
   "cell_type": "code",
   "execution_count": null,
   "metadata": {
    "collapsed": false,
    "jupyter": {
     "outputs_hidden": false
    }
   },
   "outputs": [],
   "source": [
    "# you can easily calculate buffers\n",
    "california_polygon.buffer(distance=1)"
   ]
  },
  {
   "cell_type": "code",
   "execution_count": null,
   "metadata": {},
   "outputs": [],
   "source": [
    "buffered_points = cal_points.buffer(0.5)\n",
    "ax = california.difference(buffered_points.unary_union).plot()"
   ]
  },
  {
   "cell_type": "code",
   "execution_count": null,
   "metadata": {},
   "outputs": [],
   "source": [
    "ax = california.intersection(buffered_points.unary_union).plot()"
   ]
  },
  {
   "cell_type": "markdown",
   "metadata": {},
   "source": [
    "But these buffers are weird because the data is not projected. It's all in lat-long degrees. Let's project it."
   ]
  },
  {
   "cell_type": "markdown",
   "metadata": {},
   "source": [
    "## 3. Projection"
   ]
  },
  {
   "cell_type": "markdown",
   "metadata": {},
   "source": [
    "Let's define a projection we can use to convert and map our lat-long data. The parameters in the following dictionaries correspond to the projection parameters from PROJ4. Geopandas uses the pyproj library to project spatial data, which in turn uses PROJ4 projection names and parameters.\n",
    "\n",
    "You can figure out these parameter values either by approximating the lats and longs of your spatial data set, or by trial and error, or by looking up a reference like [this one](http://spatialreference.org/ref/epsg/26911/) for UTM zone 11. "
   ]
  },
  {
   "cell_type": "code",
   "execution_count": null,
   "metadata": {},
   "outputs": [],
   "source": [
    "# you must specify the geodataframe's original CRS (if it doesn't already have one) so geopandas knows how to project it\n",
    "# the GPS data is lat-long and its datum/ellipsoid is WGS84 - this is a geographic coordinate system\n",
    "original_crs = {'init' : 'epsg:4326'}\n",
    "cal_points.crs = original_crs\n",
    "cal_points.crs"
   ]
  },
  {
   "cell_type": "code",
   "execution_count": null,
   "metadata": {},
   "outputs": [],
   "source": [
    "california.crs"
   ]
  },
  {
   "cell_type": "code",
   "execution_count": null,
   "metadata": {},
   "outputs": [],
   "source": [
    "ax = california.plot()"
   ]
  },
  {
   "cell_type": "code",
   "execution_count": null,
   "metadata": {},
   "outputs": [],
   "source": [
    "# specify your projection manually\n",
    "# we'll map with UTM zone 11 which is good for California - this is a projected coordinate system\n",
    "utm_11 = '+proj=utm +zone=11 +ellps=GRS80 +datum=NAD83 +units=m +no_defs'"
   ]
  },
  {
   "cell_type": "code",
   "execution_count": null,
   "metadata": {},
   "outputs": [],
   "source": [
    "# the california shapefile already has an original CRS so we don't need to specify it - just project and plot it\n",
    "california = california.to_crs(utm_11)\n",
    "ax = california.plot()"
   ]
  },
  {
   "cell_type": "markdown",
   "metadata": {},
   "source": [
    "**Be careful**: heed the difference between `gdf.crs` and `gdf.to_crs()`"
   ]
  },
  {
   "cell_type": "code",
   "execution_count": null,
   "metadata": {
    "collapsed": false,
    "jupyter": {
     "outputs_hidden": false
    }
   },
   "outputs": [],
   "source": [
    "# now project the point data to the projected coordinate system, draw 30km buffers, and plot it\n",
    "cal_points = cal_points.to_crs(utm_11)\n",
    "ax = california.plot(color='gray')\n",
    "ax = cal_points.buffer(30000).plot(ax=ax, color='none', edgecolor='r')"
   ]
  },
  {
   "cell_type": "markdown",
   "metadata": {},
   "source": [
    "So that's our projected data and shapefile. Notice how the shape has changed, and how the units make more sense - they are in meters now. So our buffers are a 20km radius from each point."
   ]
  },
  {
   "cell_type": "code",
   "execution_count": null,
   "metadata": {},
   "outputs": [],
   "source": [
    "# now it's your turn\n",
    "# find all the points that intersect with massachusetts\n",
    "# project the points and the state boundary to a new projection of your choosing\n",
    "# plot them together, like you saw above\n"
   ]
  },
  {
   "cell_type": "markdown",
   "metadata": {},
   "source": [
    "Now let's project our entire USA points data to a projection appropriate for the entire USA. We'll specify the datum, ellipsoid, projection name, standard parallels, central meridian and latitude of origin, false easting and false northing (because matplotlib basemap sticks the origin at the lower left corner), and measurement units. "
   ]
  },
  {
   "cell_type": "code",
   "execution_count": null,
   "metadata": {
    "collapsed": false,
    "jupyter": {
     "outputs_hidden": false
    }
   },
   "outputs": [],
   "source": [
    "# set our usa_points dataset's original CRS\n",
    "usa_points.crs = original_crs\n",
    "usa_points.head()"
   ]
  },
  {
   "cell_type": "code",
   "execution_count": null,
   "metadata": {},
   "outputs": [],
   "source": [
    "# specify the width and height of the map extent/domain in projection coordinate units (meters) - approx USA dimensions\n",
    "map_width_m = 5000 * 1000 #5000 km\n",
    "map_height_m = 3500 * 1000 #3500 km"
   ]
  },
  {
   "cell_type": "code",
   "execution_count": null,
   "metadata": {
    "collapsed": false,
    "jupyter": {
     "outputs_hidden": false
    }
   },
   "outputs": [],
   "source": [
    "# Albers Conical Equal Area projection for USA\n",
    "albers_usa = {'datum':'NAD83',\n",
    "              'ellps':'GRS80',\n",
    "              'proj':'aea', \n",
    "              'lat_1':33, \n",
    "              'lat_2':45, \n",
    "              'lon_0':-97, \n",
    "              'lat_0':39, \n",
    "              'x_0':map_width_m/2, \n",
    "              'y_0':map_height_m/2,\n",
    "              'units':'m'}"
   ]
  },
  {
   "cell_type": "code",
   "execution_count": null,
   "metadata": {
    "collapsed": false,
    "jupyter": {
     "outputs_hidden": false
    }
   },
   "outputs": [],
   "source": [
    "# now you can convert the point data to a projected CRS\n",
    "# doesn't save the changes unless you do assignment\n",
    "usa_points.to_crs(albers_usa).head()"
   ]
  },
  {
   "cell_type": "code",
   "execution_count": null,
   "metadata": {
    "collapsed": false,
    "jupyter": {
     "outputs_hidden": false
    }
   },
   "outputs": [],
   "source": [
    "fig, axes = plt.subplots(ncols=2, figsize=(12, 8))\n",
    "contiguous_states.plot(ax=axes[0])\n",
    "contiguous_states.to_crs(albers_usa).plot(ax=axes[1])\n",
    "plt.show()"
   ]
  },
  {
   "cell_type": "markdown",
   "metadata": {},
   "source": [
    "Unprojected lat-long data (left) and projected data (right). The origin on the right is 0,0 like we'd expect for our false origin."
   ]
  },
  {
   "cell_type": "code",
   "execution_count": null,
   "metadata": {},
   "outputs": [],
   "source": [
    "# states by area (square degrees???)\n",
    "contiguous_states = contiguous_states.copy() #bc we sliced this from states gdf earlier\n",
    "contiguous_states['area'] = contiguous_states.area\n",
    "contiguous_states.sort_values('area', ascending=False).head()[['STATE_NAME', 'area']]"
   ]
  },
  {
   "cell_type": "code",
   "execution_count": null,
   "metadata": {},
   "outputs": [],
   "source": [
    "# states by area (sq km!!!)\n",
    "contiguous_states_proj = contiguous_states.to_crs(albers_usa)\n",
    "contiguous_states_proj['area'] = contiguous_states_proj.area / 1e9 # sq meters -> sq km\n",
    "contiguous_states_proj.sort_values('area', ascending=False).head()[['STATE_NAME', 'area']]"
   ]
  },
  {
   "cell_type": "code",
   "execution_count": null,
   "metadata": {},
   "outputs": [],
   "source": [
    "# now it's your turn\n",
    "# dissolve the states into their regions. which region is the smallest? what is its area in square km?\n"
   ]
  },
  {
   "cell_type": "markdown",
   "metadata": {},
   "source": [
    "## 4. Simple Mapping"
   ]
  },
  {
   "cell_type": "code",
   "execution_count": null,
   "metadata": {},
   "outputs": [],
   "source": [
    "ax = contiguous_states_proj.plot(column='area', cmap='viridis', scheme='quantiles',\n",
    "                                 edgecolor='k', linewidth=0.25)"
   ]
  },
  {
   "cell_type": "code",
   "execution_count": null,
   "metadata": {},
   "outputs": [],
   "source": [
    "fig, ax = plt.subplots()\n",
    "ax = contiguous_states_proj.plot(ax=ax, column='area', cmap='viridis', scheme='quantiles',\n",
    "                                 edgecolor='k', linewidth=0.25)\n",
    "ax.axis('off')\n",
    "fig.savefig('data/map.png', dpi=600)\n",
    "plt.show()"
   ]
  },
  {
   "cell_type": "markdown",
   "metadata": {},
   "source": [
    "We'll be doing more mapping, and interactive mapping, next week.\n",
    "\n",
    "## 5. Spatial joins and spatial indexes"
   ]
  },
  {
   "cell_type": "code",
   "execution_count": null,
   "metadata": {},
   "outputs": [],
   "source": [
    "rents = pd.read_csv('data/listings.csv')\n",
    "len(rents)"
   ]
  },
  {
   "cell_type": "code",
   "execution_count": null,
   "metadata": {},
   "outputs": [],
   "source": [
    "rents = gpd.GeoDataFrame(rents)\n",
    "rents['geometry'] = rents.apply(lambda row: Point(row['longitude'], row['latitude']), axis=1)\n",
    "rents.crs = original_crs\n",
    "rents.head()"
   ]
  },
  {
   "cell_type": "code",
   "execution_count": null,
   "metadata": {},
   "outputs": [],
   "source": [
    "rents.crs == contiguous_states.crs"
   ]
  },
  {
   "cell_type": "code",
   "execution_count": null,
   "metadata": {},
   "outputs": [],
   "source": [
    "rents = rents.to_crs(contiguous_states.crs)"
   ]
  },
  {
   "cell_type": "code",
   "execution_count": null,
   "metadata": {},
   "outputs": [],
   "source": [
    "rents_states = gpd.sjoin(rents, contiguous_states, how='left', op='within')"
   ]
  },
  {
   "cell_type": "code",
   "execution_count": null,
   "metadata": {},
   "outputs": [],
   "source": [
    "groups = rents_states.groupby('STATE_NAME')"
   ]
  },
  {
   "cell_type": "code",
   "execution_count": null,
   "metadata": {},
   "outputs": [],
   "source": [
    "# which states have the highest median rents?\n",
    "groups['rent'].median().sort_values(ascending=False).head()"
   ]
  },
  {
   "cell_type": "code",
   "execution_count": null,
   "metadata": {},
   "outputs": [],
   "source": [
    "# which states have the most bedrooms/unit in the listings?\n",
    "groups['bedrooms'].mean().sort_values(ascending=False).head()"
   ]
  },
  {
   "cell_type": "markdown",
   "metadata": {},
   "source": [
    "### spatial indexing"
   ]
  },
  {
   "cell_type": "code",
   "execution_count": null,
   "metadata": {},
   "outputs": [],
   "source": [
    "geometry = states[states['STATE_NAME']=='Massachusetts']['geometry'].iloc[0]\n",
    "geometry"
   ]
  },
  {
   "cell_type": "code",
   "execution_count": null,
   "metadata": {},
   "outputs": [],
   "source": [
    "%%time\n",
    "matches = rents.intersects(geometry)"
   ]
  },
  {
   "cell_type": "code",
   "execution_count": null,
   "metadata": {},
   "outputs": [],
   "source": [
    "sindex = rents.sindex"
   ]
  },
  {
   "cell_type": "code",
   "execution_count": null,
   "metadata": {},
   "outputs": [],
   "source": [
    "%%time\n",
    "possible_matches_index = list(sindex.intersection(geometry.bounds))\n",
    "possible_matches = rents.iloc[possible_matches_index]\n",
    "precise_matches = possible_matches[possible_matches.intersects(geometry)]"
   ]
  },
  {
   "cell_type": "markdown",
   "metadata": {},
   "source": [
    "## In-class workshop\n",
    "\n",
    "1. Download census tract boundaries and county boundaries for some state from [TIGER](https://www.census.gov/geographies/mapping-files/time-series/geo/tiger-line-file.html)\n",
    "2. Load them with geopandas\n",
    "3. Create a choropleth map, colored by some attribute in the shapefile\n",
    "4. Spatial join the rental listings to the tracts\n",
    "5. Which tract in your state has the highest median rent?\n",
    "6. Spatial join tracts to counties\n",
    "7. Dissolve your tracts into counties\n",
    "8. Which county in your state has the highest median rent?"
   ]
  },
  {
   "cell_type": "code",
   "execution_count": null,
   "metadata": {},
   "outputs": [],
   "source": []
  }
 ],
 "metadata": {
  "kernelspec": {
   "display_name": "Python (urbinf)",
   "language": "python",
   "name": "urbinf"
  },
  "language_info": {
   "codemirror_mode": {
    "name": "ipython",
    "version": 3
   },
   "file_extension": ".py",
   "mimetype": "text/x-python",
   "name": "python",
   "nbconvert_exporter": "python",
   "pygments_lexer": "ipython3",
   "version": "3.7.3"
  }
 },
 "nbformat": 4,
 "nbformat_minor": 4
}
