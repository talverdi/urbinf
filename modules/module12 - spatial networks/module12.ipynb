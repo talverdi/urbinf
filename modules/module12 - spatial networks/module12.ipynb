{
 "cells": [
  {
   "cell_type": "markdown",
   "metadata": {},
   "source": [
    "# Urban Informatics\n",
    "\n",
    "# Module 12: Spatial networks\n",
    "\n",
    "**Download, model, analyze, and visualize street networks (and other spatial data) anywhere in the world from OpenStreetMap.**\n",
    "\n",
    "What you can do with OSMnx:\n",
    "\n",
    "  - Download street networks anywhere in the world with a single line of code\n",
    "  - Download other infrastructure network types, place polygons, building footprints, and points of interest\n",
    "  - Download by city name, polygon, bounding box, or point/address + network distance\n",
    "  - Download drivable, walkable, bikeable, or all street networks (or pass in custom query filters)\n",
    "  - Load street network from a local .osm file\n",
    "  - Visualize street network as a static image or leaflet web map\n",
    "  - Simplify and correct the network’s topology to clean and consolidate intersections\n",
    "  - Save networks to disk as shapefiles, GraphML, or node/edge lists\n",
    "  - Conduct topological and spatial analyses to automatically calculate dozens of indicators\n",
    "  - Calculate and plot shortest-path routes as a static image or leaflet web map\n",
    "  - Fast map-matching of points, routes, or trajectories to nearest graph edges or nodes\n",
    "  - Plot figure-ground diagrams of street networks and/or building footprints\n",
    "  - Download node elevations and calculate street grades\n",
    "  - Visualize travel distance and travel time with isoline and isochrone maps\n",
    "  - Calculate and visualize street bearings and orientations\n",
    "\n",
    "More info:\n",
    "\n",
    "  - [OSMnx documentation](https://osmnx.readthedocs.io)\n",
    "  - [Examples, demos, tutorials](https://github.com/gboeing/osmnx-examples)"
   ]
  },
  {
   "cell_type": "code",
   "execution_count": null,
   "metadata": {},
   "outputs": [],
   "source": [
    "import networkx as nx\n",
    "import osmnx as ox\n",
    "import requests\n",
    "import matplotlib.cm as cm\n",
    "import matplotlib.colors as colors\n",
    "ox.config(use_cache=True, log_console=True)\n",
    "ox.__version__"
   ]
  },
  {
   "cell_type": "code",
   "execution_count": null,
   "metadata": {},
   "outputs": [],
   "source": [
    "# get a graph for some city\n",
    "G = ox.graph_from_place('Piedmont, California, USA', network_type='drive')\n",
    "fig, ax = ox.plot_graph(G)"
   ]
  },
  {
   "cell_type": "code",
   "execution_count": null,
   "metadata": {},
   "outputs": [],
   "source": [
    "# what sized area does our network cover in square meters?\n",
    "G_proj = ox.project_graph(G)\n",
    "nodes_proj = ox.graph_to_gdfs(G_proj, edges=False)\n",
    "graph_area_m = nodes_proj.unary_union.convex_hull.area\n",
    "graph_area_m"
   ]
  },
  {
   "cell_type": "code",
   "execution_count": null,
   "metadata": {},
   "outputs": [],
   "source": [
    "# show some basic stats about the network\n",
    "ox.basic_stats(G_proj, area=graph_area_m, clean_intersects=True, circuity_dist='euclidean')"
   ]
  },
  {
   "cell_type": "markdown",
   "metadata": {},
   "source": [
    "stats documentation: https://osmnx.readthedocs.io/en/stable/osmnx.html#module-osmnx.stats"
   ]
  },
  {
   "cell_type": "code",
   "execution_count": null,
   "metadata": {},
   "outputs": [],
   "source": [
    "# see more stats (mostly topological stuff) with extended_stats\n",
    "more_stats = ox.extended_stats(G, ecc=True, bc=True, cc=True) #use arguments to turn other toplogical analyses on/off\n",
    "for key in sorted(more_stats.keys()):\n",
    "    print(key)"
   ]
  },
  {
   "cell_type": "code",
   "execution_count": null,
   "metadata": {},
   "outputs": [],
   "source": [
    "# pull up some stat's value\n",
    "more_stats['radius']"
   ]
  },
  {
   "cell_type": "code",
   "execution_count": null,
   "metadata": {},
   "outputs": [],
   "source": [
    "# save graph to disk as shapefile (for GIS) or graphml file (for gephi etc)\n",
    "ox.save_graph_shapefile(G, filename='mynetwork_shapefile')\n",
    "ox.save_graphml(G, filename='mynetwork.graphml')"
   ]
  },
  {
   "cell_type": "markdown",
   "metadata": {},
   "source": [
    "## Visualize street centrality"
   ]
  },
  {
   "cell_type": "code",
   "execution_count": null,
   "metadata": {},
   "outputs": [],
   "source": [
    "# edge closeness centrality: convert graph to line graph so edges become nodes and vice versa\n",
    "edge_centrality = nx.closeness_centrality(nx.line_graph(G))"
   ]
  },
  {
   "cell_type": "code",
   "execution_count": null,
   "metadata": {},
   "outputs": [],
   "source": [
    "# list of edge values for the orginal graph\n",
    "ev = [edge_centrality[edge + (0,)] for edge in G.edges()]\n",
    "\n",
    "# color scale converted to list of colors for graph edges\n",
    "norm = colors.Normalize(vmin=min(ev)*0.8, vmax=max(ev))\n",
    "cmap = cm.ScalarMappable(norm=norm, cmap=cm.inferno)\n",
    "ec = [cmap.to_rgba(cl) for cl in ev]\n",
    "\n",
    "# color the edges in the original graph with closeness centralities in the line graph\n",
    "fig, ax = ox.plot_graph(G, bgcolor='k', axis_off=True, node_size=0,\n",
    "                        edge_color=ec, edge_linewidth=1.5, edge_alpha=1)"
   ]
  },
  {
   "cell_type": "markdown",
   "metadata": {},
   "source": [
    "## Routing"
   ]
  },
  {
   "cell_type": "code",
   "execution_count": null,
   "metadata": {},
   "outputs": [],
   "source": [
    "# get the nearest network node to each point\n",
    "orig_node = ox.get_nearest_node(G, (37.828903, -122.245846))\n",
    "dest_node = ox.get_nearest_node(G, (37.812303, -122.215006))"
   ]
  },
  {
   "cell_type": "code",
   "execution_count": null,
   "metadata": {},
   "outputs": [],
   "source": [
    "# find the route between these nodes then plot it\n",
    "route = nx.shortest_path(G, orig_node, dest_node, weight='length')\n",
    "fig, ax = ox.plot_graph_route(G, route, node_size=0)"
   ]
  },
  {
   "cell_type": "code",
   "execution_count": null,
   "metadata": {},
   "outputs": [],
   "source": [
    "# how long is our route in meters?\n",
    "net_dist = nx.shortest_path_length(G, orig_node, dest_node, weight='length')\n",
    "net_dist"
   ]
  },
  {
   "cell_type": "code",
   "execution_count": null,
   "metadata": {},
   "outputs": [],
   "source": [
    "# how far is it between these two nodes as the crow flies, straight-line?\n",
    "sl_dist = ox.great_circle_vec(G.node[orig_node]['y'], G.node[orig_node]['x'],\n",
    "                              G.node[dest_node]['y'], G.node[dest_node]['x'])\n",
    "sl_dist"
   ]
  },
  {
   "cell_type": "code",
   "execution_count": null,
   "metadata": {},
   "outputs": [],
   "source": [
    "# route circuity\n",
    "net_dist / sl_dist"
   ]
  },
  {
   "cell_type": "markdown",
   "metadata": {},
   "source": [
    "## Get networks other ways\n",
    "\n",
    "make queries less ambiguous to help the geocoder out if it's not finding what you're looking for"
   ]
  },
  {
   "cell_type": "code",
   "execution_count": null,
   "metadata": {},
   "outputs": [],
   "source": [
    "# make query an unambiguous dict to help the geocoder find specifically what you're looking for\n",
    "place = {'city' : 'San Francisco',\n",
    "         'state' : 'California',\n",
    "         'country' : 'USA'}\n",
    "G = ox.graph_from_place(place, network_type='drive')\n",
    "fig, ax = ox.plot_graph(G, fig_height=10, node_size=0, edge_linewidth=0.5)"
   ]
  },
  {
   "cell_type": "code",
   "execution_count": null,
   "metadata": {},
   "outputs": [],
   "source": [
    "# you can get networks anywhere in the world\n",
    "G = ox.graph_from_place('2nd Arrondissement, Paris, France', buffer_dist=100, network_type='drive_service')\n",
    "fig, ax = ox.plot_graph(G, node_size=0, edge_linewidth=0.5)"
   ]
  },
  {
   "cell_type": "code",
   "execution_count": null,
   "metadata": {},
   "outputs": [],
   "source": [
    "# or get network by coordinates, bounding box, or any custom polygon shape\n",
    "# useful when OSM just doesn't have a polygon for the place you want\n",
    "lewis_hall = (34.019267, -118.283566)\n",
    "one_mile = 1609 #in meters\n",
    "G = ox.graph_from_point(lewis_hall, distance=one_mile, network_type='drive')\n",
    "fig, ax = ox.plot_graph(G, node_size=0)"
   ]
  },
  {
   "cell_type": "markdown",
   "metadata": {},
   "source": [
    "examples of getting networks by coordinates, bounding box, or any custom polygon shape: https://github.com/gboeing/osmnx-examples/blob/master/notebooks/01-overview-osmnx.ipynb"
   ]
  },
  {
   "cell_type": "markdown",
   "metadata": {},
   "source": [
    "## Get other infrastructure types\n",
    "\n",
    "like building footprints or rail or electric grids or neraby businesses"
   ]
  },
  {
   "cell_type": "code",
   "execution_count": null,
   "metadata": {},
   "outputs": [],
   "source": [
    "# building footprints around the empire state building\n",
    "point = (40.748482, -73.985402) #coordinates of the empire state building\n",
    "dist = 812 #meters\n",
    "gdf = ox.footprints_from_point(point=point, distance=dist)\n",
    "gdf[['name', 'height', 'geometry']].head()"
   ]
  },
  {
   "cell_type": "code",
   "execution_count": null,
   "metadata": {},
   "outputs": [],
   "source": [
    "# plot the building footprints\n",
    "gdf_proj = ox.project_gdf(gdf)\n",
    "bbox_proj = ox.bbox_from_point(point=point, distance=dist, project_utm=True)\n",
    "fig, ax = ox.plot_footprints(gdf_proj, bbox=bbox_proj, bgcolor='#333333', color='w', figsize=(6,6))"
   ]
  },
  {
   "cell_type": "code",
   "execution_count": null,
   "metadata": {},
   "outputs": [],
   "source": [
    "# restaurants near the empire state buildings\n",
    "gdf = ox.pois_from_point(point=point, distance=dist, amenities=['restaurant'])\n",
    "gdf[['name', 'cuisine']].dropna().head()"
   ]
  },
  {
   "cell_type": "markdown",
   "metadata": {},
   "source": [
    "## In-class workshop\n",
    "\n",
    "Git clone this repo to your desktop: https://github.com/gboeing/osmnx-examples\n",
    "\n",
    "Pick 2 or 3 notebooks to work through (skip #00)."
   ]
  }
 ],
 "metadata": {
  "kernelspec": {
   "display_name": "Python (urbinf)",
   "language": "python",
   "name": "urbinf"
  },
  "language_info": {
   "codemirror_mode": {
    "name": "ipython",
    "version": 3
   },
   "file_extension": ".py",
   "mimetype": "text/x-python",
   "name": "python",
   "nbconvert_exporter": "python",
   "pygments_lexer": "ipython3",
   "version": "3.7.3"
  }
 },
 "nbformat": 4,
 "nbformat_minor": 4
}
