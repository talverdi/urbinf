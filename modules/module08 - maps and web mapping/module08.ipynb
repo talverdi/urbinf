{
 "cells": [
  {
   "cell_type": "markdown",
   "metadata": {},
   "source": [
    "# Urban Informatics\n",
    "# Module 08: Mapping and Web Mapping"
   ]
  },
  {
   "cell_type": "code",
   "execution_count": null,
   "metadata": {},
   "outputs": [],
   "source": [
    "import geopandas as gpd\n",
    "import folium\n",
    "import matplotlib.pyplot as plt\n",
    "from cartopy import crs as ccrs\n",
    "\n",
    "%matplotlib inline"
   ]
  },
  {
   "cell_type": "code",
   "execution_count": null,
   "metadata": {},
   "outputs": [],
   "source": [
    "gdf_world = gpd.read_file(gpd.datasets.get_path('naturalearth_lowres'))\n",
    "gdf_world.head()"
   ]
  },
  {
   "cell_type": "code",
   "execution_count": null,
   "metadata": {},
   "outputs": [],
   "source": [
    "gdf_cities = gpd.read_file(gpd.datasets.get_path('naturalearth_cities'))\n",
    "gdf_cities.head()"
   ]
  },
  {
   "cell_type": "markdown",
   "metadata": {},
   "source": [
    "## 1. Choropleth mapping"
   ]
  },
  {
   "cell_type": "code",
   "execution_count": null,
   "metadata": {},
   "outputs": [],
   "source": [
    "# map the world countries directly with geopandas\n",
    "ax = gdf_world.plot()"
   ]
  },
  {
   "cell_type": "code",
   "execution_count": null,
   "metadata": {},
   "outputs": [],
   "source": [
    "# remove antarctica from our geodataframe, then plot again\n",
    "mask = (gdf_world['name'] != 'Antarctica') & (gdf_world['pop_est'] > 0)\n",
    "gdf_world = gdf_world[mask]\n",
    "ax = gdf_world.plot()"
   ]
  },
  {
   "cell_type": "code",
   "execution_count": null,
   "metadata": {},
   "outputs": [],
   "source": [
    "# color countries by population\n",
    "fig, ax = plt.subplots(figsize=(9, 9))\n",
    "ax = gdf_world.plot(ax=ax, column='pop_est')"
   ]
  },
  {
   "cell_type": "code",
   "execution_count": null,
   "metadata": {},
   "outputs": [],
   "source": [
    "# create a column to contain a per-capita gdp indicator\n",
    "gdf_world['gdp_per_cap'] = gdf_world.gdp_md_est / gdf_world.pop_est\n",
    "fig, ax = plt.subplots(figsize=(12, 12))\n",
    "ax = gdf_world.plot(ax=ax, column='gdp_per_cap', cmap='inferno_r', edgecolor='k', lw=0.2)\n",
    "\n",
    "# turn off the axis so it's just a map\n",
    "ax.axis('off')\n",
    "plt.show()"
   ]
  },
  {
   "cell_type": "code",
   "execution_count": null,
   "metadata": {},
   "outputs": [],
   "source": [
    "# inspect the highest GDP per capita countries\n",
    "gdf_world.sort_values(by='gdp_per_cap', ascending=False).head()"
   ]
  },
  {
   "cell_type": "code",
   "execution_count": null,
   "metadata": {},
   "outputs": [],
   "source": [
    "# drop a couple outliers\n",
    "labels = gdf_world.sort_values(by='gdp_per_cap', ascending=False).iloc[:2].index\n",
    "gdf_world = gdf_world.drop(labels)"
   ]
  },
  {
   "cell_type": "code",
   "execution_count": null,
   "metadata": {},
   "outputs": [],
   "source": [
    "# map again\n",
    "fig, ax = plt.subplots(figsize=(12, 12))\n",
    "ax = gdf_world.plot(ax=ax, column='gdp_per_cap', cmap='inferno_r', edgecolor='k', lw=0.2)\n",
    "ax.axis('off')\n",
    "plt.show()"
   ]
  },
  {
   "cell_type": "code",
   "execution_count": null,
   "metadata": {},
   "outputs": [],
   "source": [
    "# map again, with a different classification scheme\n",
    "fig, ax = plt.subplots(figsize=(12, 12))\n",
    "ax = gdf_world.plot(ax=ax, column='gdp_per_cap', cmap='inferno_r', scheme='FisherJenks', edgecolor='k', lw=0.2)\n",
    "ax.axis('off')\n",
    "plt.show()"
   ]
  },
  {
   "cell_type": "code",
   "execution_count": null,
   "metadata": {},
   "outputs": [],
   "source": [
    "# now it's your turn\n",
    "# create a subset geodataframe of only african countries, then plot by gdp per capita\n"
   ]
  },
  {
   "cell_type": "markdown",
   "metadata": {},
   "source": [
    "## 2. Projecting"
   ]
  },
  {
   "cell_type": "code",
   "execution_count": null,
   "metadata": {},
   "outputs": [],
   "source": [
    "# what CRS are we using?\n",
    "gdf_world.crs"
   ]
  },
  {
   "cell_type": "markdown",
   "metadata": {},
   "source": [
    "More info: http://spatialreference.org/ref/epsg/4326/"
   ]
  },
  {
   "cell_type": "code",
   "execution_count": null,
   "metadata": {},
   "outputs": [],
   "source": [
    "# project data to the robinson projection\n",
    "robinson = '+proj=robin +lon_0=0 +x_0=0 +y_0=0 +ellps=WGS84 +datum=WGS84 +units=m +no_defs'\n",
    "gdf_world = gdf_world.to_crs(robinson)\n",
    "gdf_world.crs"
   ]
  },
  {
   "cell_type": "code",
   "execution_count": null,
   "metadata": {},
   "outputs": [],
   "source": [
    "# map again\n",
    "fig, ax = plt.subplots(figsize=(15, 15))\n",
    "ax = gdf_world.plot(ax=ax, column='gdp_per_cap', cmap='inferno_r', edgecolor='w', lw=0.2)\n",
    "ax.axis('off')\n",
    "plt.show()"
   ]
  },
  {
   "cell_type": "code",
   "execution_count": null,
   "metadata": {},
   "outputs": [],
   "source": [
    "# now it's your turn\n",
    "# calculate the population density of each country as a new column, then map the countries by density\n"
   ]
  },
  {
   "cell_type": "markdown",
   "metadata": {},
   "source": [
    "## 3. Mapping multiple layers\n",
    "\n",
    "Plot capital cities on top of countries basemap"
   ]
  },
  {
   "cell_type": "code",
   "execution_count": null,
   "metadata": {},
   "outputs": [],
   "source": [
    "gdf_cities.head()"
   ]
  },
  {
   "cell_type": "code",
   "execution_count": null,
   "metadata": {},
   "outputs": [],
   "source": [
    "fig, ax = plt.subplots(figsize=(12, 12))\n",
    "\n",
    "# plot the basemap: the country boundaries\n",
    "ax = gdf_world.plot(ax=ax, color='w', edgecolor='#aaaaaa', lw=1)\n",
    "\n",
    "# plot the points: the city lat-lngs\n",
    "ax = gdf_cities.plot(ax=ax, color='r')\n",
    "\n",
    "ax.axis('off')\n",
    "plt.show()"
   ]
  },
  {
   "cell_type": "markdown",
   "metadata": {},
   "source": [
    "Why do we have one single red dot at lat=0 and lng=0?"
   ]
  },
  {
   "cell_type": "code",
   "execution_count": null,
   "metadata": {},
   "outputs": [],
   "source": [
    "gdf_cities.crs == gdf_world.crs"
   ]
  },
  {
   "cell_type": "code",
   "execution_count": null,
   "metadata": {},
   "outputs": [],
   "source": [
    "# gotta project the gdfs so they're in the same CRSs\n",
    "gdf_cities = gdf_cities.to_crs(gdf_world.crs)\n",
    "gdf_cities.crs == gdf_world.crs"
   ]
  },
  {
   "cell_type": "code",
   "execution_count": null,
   "metadata": {},
   "outputs": [],
   "source": [
    "fig, ax = plt.subplots(figsize=(12, 12))\n",
    "\n",
    "# plot the basemap: the country boundaries\n",
    "ax = gdf_world.plot(ax=ax, color='w', edgecolor='#aaaaaa', lw=1)\n",
    "\n",
    "# plot the points: the city lat-lngs\n",
    "ax = gdf_cities.plot(ax=ax, color='none', edgecolor='#003366', lw=2, alpha=0.7)\n",
    "\n",
    "ax.axis('off')\n",
    "plt.show()"
   ]
  },
  {
   "cell_type": "code",
   "execution_count": null,
   "metadata": {},
   "outputs": [],
   "source": [
    "# now it's your turn\n",
    "# map the entire world basemap, but only plot asian cities on top of it\n"
   ]
  },
  {
   "cell_type": "code",
   "execution_count": null,
   "metadata": {},
   "outputs": [],
   "source": [
    "# join cities to countries, so we know which country each city belongs to\n",
    "gdf_cities_countries = gpd.sjoin(gdf_cities, gdf_world, how='inner', op='within')"
   ]
  },
  {
   "cell_type": "code",
   "execution_count": null,
   "metadata": {},
   "outputs": [],
   "source": [
    "# our spatial join isn't perfect, because of the low-resolution country boundaries\n",
    "gdf_cities_countries.head()"
   ]
  },
  {
   "cell_type": "code",
   "execution_count": null,
   "metadata": {},
   "outputs": [],
   "source": [
    "fig, ax = plt.subplots(figsize=(12, 12))\n",
    "\n",
    "# plot the basemap: the country boundaries\n",
    "ax = gdf_world.plot(ax=ax, color='#eeeeee', edgecolor='#999999', lw=1)\n",
    "\n",
    "# plot the points: the city lat-lngs\n",
    "ax = gdf_cities_countries.plot(ax=ax, column='gdp_per_cap', cmap='inferno_r', edgecolor='k', lw=1, alpha=0.8)\n",
    "\n",
    "ax.axis('off')\n",
    "plt.show()"
   ]
  },
  {
   "cell_type": "code",
   "execution_count": null,
   "metadata": {},
   "outputs": [],
   "source": [
    "# now it's your turn\n",
    "# create a subset geodataframe of only african cities/countries, then plot the countries as a basemap and the cities colored by gdp per capita\n"
   ]
  },
  {
   "cell_type": "markdown",
   "metadata": {},
   "source": [
    "## 4. Choosing colors\n",
    "\n",
    "https://matplotlib.org/users/colormaps.html\n",
    "\n",
    "Easy rules to (usually) pick a good color map: \n",
    "\n",
    "  - if you have data values rising from some baseline to some maximum, use a perceptually uniform sequential color map.\n",
    "  - if you have data values diverging in both directions from some meaningful center point (e.g., center is zero and values can range positive or negative) then use a diverging color map\n",
    "  - avoid rainbow/jet color maps"
   ]
  },
  {
   "cell_type": "code",
   "execution_count": null,
   "metadata": {},
   "outputs": [],
   "source": [
    "cmaps = ['viridis',\n",
    "         'plasma',\n",
    "         'inferno',\n",
    "         'YlOrRd',\n",
    "         'YlGnBu',\n",
    "         'summer',\n",
    "         'autumn',\n",
    "         'bone',\n",
    "         'RdPu']\n",
    "\n",
    "fig, axes = plt.subplots(3, 3, figsize=(12, 8), facecolor='#333333')\n",
    "for cmap, ax in zip(cmaps, axes.flatten()):\n",
    "    ax = gdf_world.plot(ax=ax, cmap=cmap)\n",
    "    ax.set_title(cmap, color='w')\n",
    "    ax.axis('off')\n",
    "\n",
    "plt.show()"
   ]
  },
  {
   "cell_type": "markdown",
   "metadata": {},
   "source": [
    "## 5. Cartopy\n",
    "\n",
    "https://scitools.org.uk/cartopy/docs/latest/crs/projections.html"
   ]
  },
  {
   "cell_type": "code",
   "execution_count": null,
   "metadata": {},
   "outputs": [],
   "source": [
    "# create a cartopy azimuthal equidistant crs object\n",
    "ae = ccrs.AzimuthalEquidistant()"
   ]
  },
  {
   "cell_type": "code",
   "execution_count": null,
   "metadata": {},
   "outputs": [],
   "source": [
    "# convert it to a proj4 string compatible with geopandas\n",
    "crs_ae = ae.proj4_init\n",
    "gdf_world_ae = gdf_world.to_crs(crs_ae)"
   ]
  },
  {
   "cell_type": "code",
   "execution_count": null,
   "metadata": {},
   "outputs": [],
   "source": [
    "fig, ax = plt.subplots(figsize=(6, 6), subplot_kw={'projection':ae})\n",
    "ax.add_geometries(gdf_world_ae['geometry'], crs=ae)\n",
    "plt.show()"
   ]
  },
  {
   "cell_type": "code",
   "execution_count": null,
   "metadata": {},
   "outputs": [],
   "source": [
    "# now it's your turn\n",
    "# look up a new cartopy projection, then use it to map the countries\n"
   ]
  },
  {
   "cell_type": "markdown",
   "metadata": {},
   "source": [
    "#### Cartopy directly with geopandas plotting"
   ]
  },
  {
   "cell_type": "code",
   "execution_count": null,
   "metadata": {},
   "outputs": [],
   "source": [
    "# create a cartopy orthographic crs object, then get a string\n",
    "ortho = ccrs.Orthographic()\n",
    "crs_ortho = ortho.proj4_init\n",
    "crs_ortho"
   ]
  },
  {
   "cell_type": "code",
   "execution_count": null,
   "metadata": {},
   "outputs": [],
   "source": [
    "# project then plot\n",
    "gdf_world_ortho = gdf_world.to_crs(crs_ortho)\n",
    "ax = gdf_world_ortho.plot()\n",
    "ax.axis('off')\n",
    "plt.show()"
   ]
  },
  {
   "cell_type": "code",
   "execution_count": null,
   "metadata": {},
   "outputs": [],
   "source": [
    "# choose your own lat/lon center\n",
    "crs_ortho_usa = '+ellps=WGS84 +proj=ortho +lon_0=-100 +lat_0=30 +no_defs'\n",
    "gdf_world_ortho_usa = gdf_world.to_crs(crs_ortho_usa)\n",
    "ax = gdf_world_ortho_usa.plot()\n",
    "ax.axis('off')\n",
    "plt.show()"
   ]
  },
  {
   "cell_type": "code",
   "execution_count": null,
   "metadata": {},
   "outputs": [],
   "source": [
    "# now it's your turn\n",
    "# plot an orthographic map of world countries colored by gdp per capita, centered on bangkok\n"
   ]
  },
  {
   "cell_type": "markdown",
   "metadata": {},
   "source": [
    "## 6. Folium\n",
    "\n",
    "Folium lets you map your geodataframe as a leaflet (javascript) web map"
   ]
  },
  {
   "cell_type": "code",
   "execution_count": null,
   "metadata": {},
   "outputs": [],
   "source": [
    "# bin the data into quintiles\n",
    "bins = list(gdf_world['gdp_per_cap'].quantile([0, 0.2, 0.4, 0.6, 0.8, 1]))"
   ]
  },
  {
   "cell_type": "code",
   "execution_count": null,
   "metadata": {},
   "outputs": [],
   "source": [
    "# create leaflet web map\n",
    "m = folium.Map(location=(40, 20), zoom_start=4, tiles='cartodbpositron')"
   ]
  },
  {
   "cell_type": "code",
   "execution_count": null,
   "metadata": {},
   "outputs": [],
   "source": [
    "# add data as choropleth\n",
    "c = folium.Choropleth(gdf_world, data=gdf_world, bins=bins,\n",
    "                      columns=['name', 'gdp_per_cap'],\n",
    "                      key_on='feature.properties.name', \n",
    "                      highlight=True, fill_color='YlOrRd', \n",
    "                      legend_name='GDP Per Capita').add_to(m)"
   ]
  },
  {
   "cell_type": "code",
   "execution_count": null,
   "metadata": {},
   "outputs": [],
   "source": [
    "# add mouseover tooltip to the countries\n",
    "c.geojson.add_child(folium.features.GeoJsonTooltip(['name', 'gdp_per_cap']))\n",
    "\n",
    "# save web map to disk\n",
    "m.save('webmap.html')"
   ]
  },
  {
   "cell_type": "code",
   "execution_count": null,
   "metadata": {},
   "outputs": [],
   "source": [
    "# display the web map inline\n",
    "m"
   ]
  },
  {
   "cell_type": "code",
   "execution_count": null,
   "metadata": {},
   "outputs": [],
   "source": [
    "# now it's your turn\n",
    "# create a new leaflet web map via folium, coloring the countries by population\n"
   ]
  },
  {
   "cell_type": "markdown",
   "metadata": {},
   "source": [
    "## 7. Web mapping sans Python\n",
    "\n",
    "Leaflet: https://leafletjs.com/examples.html\n",
    "\n",
    "Carto: https://carto.com/developers/carto-js/v3/guides/getting-started/\n",
    "\n",
    "See also: https://go.carto.com/spatial-data-science-carto-python-webinar-recorded"
   ]
  }
 ],
 "metadata": {
  "kernelspec": {
   "display_name": "Python (urbinf)",
   "language": "python",
   "name": "urbinf"
  },
  "language_info": {
   "codemirror_mode": {
    "name": "ipython",
    "version": 3
   },
   "file_extension": ".py",
   "mimetype": "text/x-python",
   "name": "python",
   "nbconvert_exporter": "python",
   "pygments_lexer": "ipython3",
   "version": "3.7.3"
  }
 },
 "nbformat": 4,
 "nbformat_minor": 4
}
