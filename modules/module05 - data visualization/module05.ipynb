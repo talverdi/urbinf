{
 "cells": [
  {
   "cell_type": "markdown",
   "metadata": {},
   "source": [
    "# Urban Informatics\n",
    "# Module 05: Data visualization with matplotlib\n",
    "\n",
    "- documentation: https://matplotlib.org/api/api_overview.html\n",
    "- examples: https://matplotlib.org/gallery/index.html\n",
    "- anatomy of mpl: https://matplotlib.org/_images/anatomy.png\n",
    "\n",
    "Today we'll dissect matplotlib. In many ways, matplotlib is the \"hard way\" to do viz in Python... but it's powerful, flexible, ubiquitous, and helps to reinforce the manual decisions and techniques that other hand-holdy libraries obfuscate. Once you've learned how to do all of this, other Python visualization libraries are easy to pick up. There are several other visualization libraries out there, such as:\n",
    "\n",
    "- seaborn: http://seaborn.pydata.org/\n",
    "- bokeh: http://bokeh.pydata.org/"
   ]
  },
  {
   "cell_type": "code",
   "execution_count": null,
   "metadata": {},
   "outputs": [],
   "source": [
    "import matplotlib.cm as cm\n",
    "import matplotlib.font_manager as fm\n",
    "import matplotlib.pyplot as plt\n",
    "import numpy as np\n",
    "import pandas as pd\n",
    "\n",
    "%matplotlib notebook"
   ]
  },
  {
   "cell_type": "markdown",
   "metadata": {},
   "source": [
    "## 1. matplotlib basics: figures and axes\n",
    "\n",
    "A figure is the top-level container for everything related to your plot. An axis is attached to the figure, and contains most of the plotting elements (like x-axis, y-axis, ticks, lines, text, polygons, and the definition of the coordinate system). It's kind of confusing, but with repitition you'll get familiar with how it works."
   ]
  },
  {
   "cell_type": "code",
   "execution_count": null,
   "metadata": {},
   "outputs": [],
   "source": [
    "# create a figure with a single axis\n",
    "fig, ax = plt.subplots()"
   ]
  },
  {
   "cell_type": "code",
   "execution_count": null,
   "metadata": {},
   "outputs": [],
   "source": [
    "type(fig)"
   ]
  },
  {
   "cell_type": "code",
   "execution_count": null,
   "metadata": {},
   "outputs": [],
   "source": [
    "type(ax)"
   ]
  },
  {
   "cell_type": "code",
   "execution_count": null,
   "metadata": {},
   "outputs": [],
   "source": [
    "# create a figure with 4 axes and choose its size\n",
    "fig, axes = plt.subplots(nrows=2, ncols=2, figsize=(8, 8))"
   ]
  },
  {
   "cell_type": "code",
   "execution_count": null,
   "metadata": {},
   "outputs": [],
   "source": [
    "type(axes)"
   ]
  },
  {
   "cell_type": "markdown",
   "metadata": {},
   "source": [
    "The anatomy of mpl: https://matplotlib.org/_images/anatomy.png"
   ]
  },
  {
   "cell_type": "markdown",
   "metadata": {},
   "source": [
    "## 2. Bar charts"
   ]
  },
  {
   "cell_type": "code",
   "execution_count": null,
   "metadata": {},
   "outputs": [],
   "source": [
    "# load some data\n",
    "df = pd.read_csv('data/tracts.csv')\n",
    "df.shape"
   ]
  },
  {
   "cell_type": "code",
   "execution_count": null,
   "metadata": {},
   "outputs": [],
   "source": [
    "# what variables are present?\n",
    "df.columns"
   ]
  },
  {
   "cell_type": "code",
   "execution_count": null,
   "metadata": {},
   "outputs": [],
   "source": [
    "# top 10 cities by number of tracts\n",
    "cities = df['place_name'].value_counts().head(10)\n",
    "cities"
   ]
  },
  {
   "cell_type": "code",
   "execution_count": null,
   "metadata": {},
   "outputs": [],
   "source": [
    "# default, simple matplotlib bar chart via pandas's dataframe.plot() method\n",
    "ax = cities.plot(kind='bar')"
   ]
  },
  {
   "cell_type": "code",
   "execution_count": null,
   "metadata": {},
   "outputs": [],
   "source": [
    "# change the default font size\n",
    "plt.rcParams['font.size'] = 12"
   ]
  },
  {
   "cell_type": "code",
   "execution_count": null,
   "metadata": {},
   "outputs": [],
   "source": [
    "# style the plot to make it look nicer\n",
    "ax = cities.plot(kind='bar', figsize=(8, 6), width=0.6, alpha=0.6, \n",
    "                 color='g', edgecolor='k', zorder=2)\n",
    "\n",
    "# added a dotted-line grid for the y-axis only\n",
    "ax.yaxis.grid(True, ls=':')\n",
    "\n",
    "# rotate the x-labels 45-degrees\n",
    "ax.set_xticklabels(cities.index, rotation=45, rotation_mode='anchor', ha='right')\n",
    "\n",
    "ax.set_title('Cities with the most tracts')\n",
    "ax.set_ylabel('Number of tracts')\n",
    "\n",
    "plt.show()"
   ]
  },
  {
   "cell_type": "code",
   "execution_count": null,
   "metadata": {},
   "outputs": [],
   "source": [
    "# same thing, only instead of pandas directly, use the mpl object-oriented API directly\n",
    "fig, ax = plt.subplots(figsize=(8, 6))\n",
    "ax.bar(x=cities.index, height=cities, width=0.6, alpha=0.6,\n",
    "       color='g', edgecolor='k', zorder=2)\n",
    "\n",
    "ax.yaxis.grid(True, ls=':')\n",
    "ax.set_xticklabels(cities.index, rotation=45, rotation_mode='anchor', ha='right')\n",
    "\n",
    "ax.set_title('Cities with the most tracts')\n",
    "ax.set_ylabel('Number of tracts')\n",
    "\n",
    "plt.show()"
   ]
  },
  {
   "cell_type": "code",
   "execution_count": null,
   "metadata": {},
   "outputs": [],
   "source": [
    "# now it's your turn\n",
    "# recreate the plot above, but give it an x-axis label and make the bars orange with maroon edges\n"
   ]
  },
  {
   "cell_type": "code",
   "execution_count": null,
   "metadata": {},
   "outputs": [],
   "source": [
    "# plot log data\n",
    "fig, ax = plt.subplots(figsize=(8, 6))\n",
    "ax.bar(x=cities.index, height=np.log(cities), width=0.6, alpha=0.6,\n",
    "       color='g', edgecolor='k', zorder=2)\n",
    "\n",
    "ax.yaxis.grid(True, ls=':')\n",
    "ax.set_ylim((0, 8))\n",
    "\n",
    "ax.set_xticklabels(cities.index, rotation=45, rotation_mode='anchor', ha='right')\n",
    "ax.set_title('Cities with the most tracts')\n",
    "ax.set_ylabel('Number of tracts (log)')\n",
    "\n",
    "plt.show()"
   ]
  },
  {
   "cell_type": "code",
   "execution_count": null,
   "metadata": {},
   "outputs": [],
   "source": [
    "# now it's your turn\n",
    "# plot a bar chart of the top 10 cities by average tract median income (hint: use pandas's dataframe.groupby() method)\n"
   ]
  },
  {
   "cell_type": "markdown",
   "metadata": {},
   "source": [
    "## 3. Histograms and KDE"
   ]
  },
  {
   "cell_type": "code",
   "execution_count": null,
   "metadata": {},
   "outputs": [],
   "source": [
    "# default histogram, via pandas\n",
    "ax = df['median_age'].hist()"
   ]
  },
  {
   "cell_type": "code",
   "execution_count": null,
   "metadata": {},
   "outputs": [],
   "source": [
    "# you can style your plot from pandas more nicely\n",
    "ax = df['median_age'].hist(bins=50, edgecolor='w', alpha=0.8, zorder=2)\n",
    "ax.grid(ls=':')\n",
    "\n",
    "# rather than setting an axis range, you can set a single limit\n",
    "ax.set_xlim(left=0)\n",
    "ax.set_ylim(top=1300)\n",
    "\n",
    "ax.set_title('Tract median age histogram')\n",
    "plt.show()"
   ]
  },
  {
   "cell_type": "code",
   "execution_count": null,
   "metadata": {},
   "outputs": [],
   "source": [
    "# plot a simple kde function\n",
    "ax = df['median_age'].plot.kde()"
   ]
  },
  {
   "cell_type": "code",
   "execution_count": null,
   "metadata": {},
   "outputs": [],
   "source": [
    "# make the KDE look nicer\n",
    "ax = df['median_age'].plot.kde(lw=4, alpha=0.6, bw_method=0.2)\n",
    "ax.grid(ls=':')\n",
    "\n",
    "ax.set_xlim((0, 80))\n",
    "ax.set_ylim(bottom=0)\n",
    "\n",
    "ax.set_title('Tract median age probability density')\n",
    "plt.show()"
   ]
  },
  {
   "cell_type": "code",
   "execution_count": null,
   "metadata": {},
   "outputs": [],
   "source": [
    "# plot the histogram and KDE together\n",
    "fig, ax = plt.subplots(figsize=(8, 6))\n",
    "ax = df['median_age'].hist(ax=ax, bins=50, edgecolor='w', alpha=0.8, zorder=2)\n",
    "ax = df['median_age'].plot.kde(ax=ax, lw=2, secondary_y=True, alpha=0.8)\n",
    "\n",
    "ax.grid(ls=':')\n",
    "ax.set_xlim((0, 75))\n",
    "ax.set_ylim(bottom=0)\n",
    "\n",
    "ax.set_title('Tract median age')\n",
    "plt.show()"
   ]
  },
  {
   "cell_type": "code",
   "execution_count": null,
   "metadata": {},
   "outputs": [],
   "source": [
    "# plot histograms of 4 separate variables as subplots of a single mpl figure\n",
    "cols = ['median_age', 'med_income_k', 'median_gross_rent_k', 'med_home_value_k']\n",
    "fig, axes = plt.subplots(nrows=2, ncols=2, figsize=(10, 8))\n",
    "\n",
    "# zip together the axes and the columns to plot them\n",
    "for ax, col in zip(axes.flatten(), cols):\n",
    "    df[col].hist(ax=ax, bins=50, alpha=0.8, zorder=2)\n",
    "    ax.grid(ls=':')\n",
    "    ax.set_xlim(left=0)\n",
    "    ax.set_title(col)\n",
    "\n",
    "# add a super title to the figure\n",
    "fig.suptitle('Histograms of tract-level variables', y=0.95, fontsize=16, weight='bold')\n",
    "plt.show()"
   ]
  },
  {
   "cell_type": "code",
   "execution_count": null,
   "metadata": {},
   "outputs": [],
   "source": [
    "# now it's your turn\n",
    "# identify 2 additional variables in the dataframe to plot 6 histograms along with their KDEs, in a single figure\n"
   ]
  },
  {
   "cell_type": "code",
   "execution_count": null,
   "metadata": {},
   "outputs": [],
   "source": [
    "# compare white vs black majority tracts\n",
    "# first plot kde of majority white tracts' median income\n",
    "white_income = df[df['prop_white'] > 0.5]['med_income_k']\n",
    "ax = white_income.plot.kde(c='k', lw=2, ls='--', alpha=0.8, bw_method=1, label='majority white')\n",
    "\n",
    "# next plot kde of majority black tracts' median income\n",
    "black_income = df[df['prop_black'] > 0.5]['med_income_k']\n",
    "ax = black_income.plot.kde(c='k', lw=2, alpha=0.8, bw_method=1, label='majority black')\n",
    "\n",
    "ax.grid(ls=':')\n",
    "ax.set_xlim((-30, 200))\n",
    "ax.set_ylim(bottom=0)\n",
    "\n",
    "ax.set_title('White vs Black Census Tracts')\n",
    "ax.set_xlabel('Median income (USD, thousands)')\n",
    "ax.set_ylabel('Probability density')\n",
    "\n",
    "ax.legend()\n",
    "plt.show()"
   ]
  },
  {
   "cell_type": "code",
   "execution_count": null,
   "metadata": {},
   "outputs": [],
   "source": [
    "# now it's your turn\n",
    "# plot contrasting KDEs comparing median home values in tracts with majority college degree or higher, vs not\n"
   ]
  },
  {
   "cell_type": "markdown",
   "metadata": {},
   "source": [
    "## 4. Time series and line plots"
   ]
  },
  {
   "cell_type": "code",
   "execution_count": null,
   "metadata": {},
   "outputs": [],
   "source": [
    "# GPS coordinates\n",
    "dt = pd.read_csv('data/gps-coords.csv', index_col='date', parse_dates=True)"
   ]
  },
  {
   "cell_type": "code",
   "execution_count": null,
   "metadata": {},
   "outputs": [],
   "source": [
    "# processing same as last week\n",
    "weekend_mask = (dt.index.weekday==5) | (dt.index.weekday==6)\n",
    "weekends = dt[weekend_mask]\n",
    "weekdays = dt[~weekend_mask]\n",
    "weekday_hourly_share = weekdays.groupby(weekdays.index.hour).size() / weekdays.groupby(weekdays.index.hour).size().sum()\n",
    "weekend_hourly_share = weekends.groupby(weekends.index.hour).size() / weekends.groupby(weekends.index.hour).size().sum()\n",
    "hourly_share = pd.DataFrame([weekday_hourly_share, weekend_hourly_share], index=['weekday', 'weekend']).T\n",
    "hourly_share.index = [s + ':00' for s in hourly_share.index.astype(str)]\n",
    "hourly_share.head()"
   ]
  },
  {
   "cell_type": "code",
   "execution_count": null,
   "metadata": {},
   "outputs": [],
   "source": [
    "# weekday vs weekend hourly observations as a bar chart\n",
    "ax = hourly_share.plot(figsize=(10, 6), kind='bar', alpha=0.7, \n",
    "                       title='Share of observations, by hour')"
   ]
  },
  {
   "cell_type": "code",
   "execution_count": null,
   "metadata": {},
   "outputs": [],
   "source": [
    "# stacked bar chart\n",
    "ax = hourly_share.plot(figsize=(10, 6), kind='bar', stacked=True, \n",
    "                       alpha=0.7, title='Share of observations, by hour')"
   ]
  },
  {
   "cell_type": "code",
   "execution_count": null,
   "metadata": {},
   "outputs": [],
   "source": [
    "ax = hourly_share.plot(figsize=(10, 6), kind='bar', stacked=False, width=0.5,\n",
    "                       alpha=0.7, color=['#336699', '#ff3366'], edgecolor='k')\n",
    "\n",
    "ax.yaxis.grid(True, ls=':')\n",
    "ax.set_xticklabels(hourly_share.index, rotation=60, rotation_mode='anchor', ha='right')\n",
    "ax.set_title('Share of observations, by hour')\n",
    "\n",
    "plt.show()"
   ]
  },
  {
   "cell_type": "code",
   "execution_count": null,
   "metadata": {},
   "outputs": [],
   "source": [
    "# get the count of records by date\n",
    "countdata = dt.groupby(dt.index.date).size()\n",
    "countdata.head()"
   ]
  },
  {
   "cell_type": "code",
   "execution_count": null,
   "metadata": {},
   "outputs": [],
   "source": [
    "# simple line plot via pandas\n",
    "ax = countdata.plot(kind='line', figsize=(10, 6))"
   ]
  },
  {
   "cell_type": "code",
   "execution_count": null,
   "metadata": {},
   "outputs": [],
   "source": [
    "# better-styled line plot\n",
    "ax = countdata.plot(kind='line', figsize=(10, 6), lw=2, c='m', alpha=0.7,\n",
    "                    marker='o', markerfacecolor='w', markeredgewidth=1.5)\n",
    "\n",
    "ax.set_ylim(bottom=0, top=70)\n",
    "\n",
    "# only show ticks for the 1st and 15th of the month\n",
    "mask = (dt.index.day == 1) | (dt.index.day == 15)\n",
    "matching_dates = dt.index.date[mask]\n",
    "xticks = np.unique(matching_dates)\n",
    "plt.xticks(ticks=xticks, rotation=45, rotation_mode='anchor', ha='right')\n",
    "\n",
    "ax.grid(ls=':')\n",
    "plt.show()"
   ]
  },
  {
   "cell_type": "code",
   "execution_count": null,
   "metadata": {},
   "outputs": [],
   "source": [
    "# now it's your turn\n",
    "# recreate the plot above, but make it a dashed red line with xticks at every day evenly divisible by 5\n"
   ]
  },
  {
   "cell_type": "markdown",
   "metadata": {},
   "source": [
    "## 5. Scatterplots"
   ]
  },
  {
   "cell_type": "code",
   "execution_count": null,
   "metadata": {},
   "outputs": [],
   "source": [
    "fig, ax = plt.subplots(figsize=(6, 6))\n",
    "ax.scatter(x=df['med_income_k'], y=df['med_home_value_k'], s=0.5, alpha=0.5)\n",
    "ax.set_xlabel('Median Income (USD, thousands)')\n",
    "ax.set_ylabel('Meidan Home Value (USD, thousands)')\n",
    "plt.show()"
   ]
  },
  {
   "cell_type": "code",
   "execution_count": null,
   "metadata": {},
   "outputs": [],
   "source": [
    "def scatter_plot(df, xcol, ycol):\n",
    "    fig, ax = plt.subplots(figsize=(6, 6))\n",
    "    ax.scatter(x=df[xcol], y=df[ycol], s=0.5, alpha=0.5)\n",
    "    ax.set_xlabel(xcol)\n",
    "    ax.set_ylabel(ycol)\n",
    "    plt.show()"
   ]
  },
  {
   "cell_type": "code",
   "execution_count": null,
   "metadata": {},
   "outputs": [],
   "source": [
    "# does distance to center co-vary with commute time?\n",
    "scatter_plot(df, 'distance_to_center_km', 'mean_travel_time_work')"
   ]
  },
  {
   "cell_type": "code",
   "execution_count": null,
   "metadata": {},
   "outputs": [],
   "source": [
    "# does the student population proportion co-vary with proportion renting?\n",
    "scatter_plot(df, 'prop_college_grad_student', 'prop_renting')"
   ]
  },
  {
   "cell_type": "code",
   "execution_count": null,
   "metadata": {},
   "outputs": [],
   "source": [
    "# compare home values vs income in majority white and minority white tracts\n",
    "fig, ax = plt.subplots(figsize=(10, 10))\n",
    "\n",
    "# first scatter minority white tracts, then majority white tracts\n",
    "mask = df['prop_white'] > 0.5\n",
    "ax.scatter(x=df[~mask]['med_income_k'], y=df[~mask]['med_home_value_k'],\n",
    "           s=10, alpha=0.5, marker='o', c='none', edgecolor='r', label='minority white')\n",
    "ax.scatter(x=df[mask]['med_income_k'], y=df[mask]['med_home_value_k'],\n",
    "           s=10, alpha=0.5, marker='o', c='none', edgecolor='k', label='majority white')\n",
    "\n",
    "# set axis limits\n",
    "ax.set_ylim((0, 1000))\n",
    "ax.set_xlim((0, 175))\n",
    "\n",
    "# add labels\n",
    "ax.set_xlabel('Median Income (USD, thousands)', fontsize=16)\n",
    "ax.set_ylabel('Meidan Home Value (USD, thousands)', fontsize=16)\n",
    "\n",
    "# add legend, show plot\n",
    "ax.legend()\n",
    "plt.show()"
   ]
  },
  {
   "cell_type": "code",
   "execution_count": null,
   "metadata": {},
   "outputs": [],
   "source": [
    "# now it's your turn\n",
    "# scatterplot majority-hispanic tracts median income vs median rent in blue and majority-white tracts median income vs median rent in orange\n"
   ]
  },
  {
   "cell_type": "markdown",
   "metadata": {},
   "source": [
    "## In class exercise\n",
    "\n",
    "Many other Python visualization libraries build on the matplotlib functionality we have learned today. For example, seaborn abstracts much of the nitty-gritty matplotlib work to create simple plots of data sets. Once you've learned the underlying matplotlib code, it's easy to play around with other visualization libraries.\n",
    "\n",
    "1. Required: choose two topics from the Seaborn tutorial (https://seaborn.pydata.org/tutorial.html), and work through them adding your code to this notebook, below.\n",
    "1. Select a data set for the assignment due next week\n",
    "1. Begin working on the assignment (instructions on GitHub)"
   ]
  },
  {
   "cell_type": "code",
   "execution_count": null,
   "metadata": {},
   "outputs": [],
   "source": [
    "# work through the seaborn tutorial in this cell and below\n"
   ]
  }
 ],
 "metadata": {
  "kernelspec": {
   "display_name": "Python (urbinf)",
   "language": "python",
   "name": "urbinf"
  },
  "language_info": {
   "codemirror_mode": {
    "name": "ipython",
    "version": 3
   },
   "file_extension": ".py",
   "mimetype": "text/x-python",
   "name": "python",
   "nbconvert_exporter": "python",
   "pygments_lexer": "ipython3",
   "version": "3.7.3"
  }
 },
 "nbformat": 4,
 "nbformat_minor": 4
}
